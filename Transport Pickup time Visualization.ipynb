{
 "cells": [
  {
   "cell_type": "code",
   "execution_count": null,
   "id": "6a8389b4-f214-409f-a5f3-661496664002",
   "metadata": {
    "tags": []
   },
   "outputs": [],
   "source": [
    "import warnings \n",
    "warnings.filterwarnings('ignore')\n",
    "context = create_default_context()\n",
    "bq_db= context.get_ds('YOUR CONTEXT')"
   ]
  },
  {
   "cell_type": "code",
   "execution_count": null,
   "id": "26baaa73-a9d3-46fb-b2c4-112bb7e6b66b",
   "metadata": {
    "tags": []
   },
   "outputs": [],
   "source": [
    "import pandas as pd\n",
    "import numpy as np\n",
    "from ggv.utils.context import create_default_context\n",
    "import warnings\n",
    "import plotly.graph_objects as go\n",
    "import plotly.express as px\n",
    "import plotly.io as pio\n",
    "import plotly\n",
    "from plotly.subplots import make_subplots\n",
    "import datetime\n",
    "import matplotlib.pyplot as plt\n",
    "\n",
    "warnings.filterwarnings('ignore')\n",
    "context = create_default_context()\n",
    "bq_db= context.get_ds('YOUR CONTEXT')"
   ]
  },
  {
   "cell_type": "code",
   "execution_count": null,
   "id": "001577e2-da41-4690-aacc-5bf60e7e7f5a",
   "metadata": {
    "tags": []
   },
   "outputs": [],
   "source": [
    "query= f\"\"\" \n",
    "SELECT\n",
    "  standard_order_request_id,\n",
    "  booking_type,\n",
    "  created_at,\n",
    "  first_assigned_at,\n",
    "  request_pickup_time,\n",
    "  last_assigned_at,\n",
    "  user_unique_id,\n",
    "  status\n",
    "FROM\n",
    "  `TableName`\n",
    "WHERE\n",
    "  DATE(created_at) >=DATE('2023-01-01')\n",
    "  AND product_name = 'TRANSPORT'\n",
    "  AND status = 'completed'\n",
    "\"\"\" \n",
    "data = bq_db.df_from_sql(query) "
   ]
  },
  {
   "cell_type": "code",
   "execution_count": null,
   "id": "2c66cd6d-7f7d-41a3-9aac-8462014709a2",
   "metadata": {
    "tags": []
   },
   "outputs": [],
   "source": [
    "data['created_at'] - data['last_assigned_at']"
   ]
  },
  {
   "cell_type": "code",
   "execution_count": null,
   "id": "b0c4ffd1-5ef5-4ce3-8b9e-373ee7ba4165",
   "metadata": {
    "tags": []
   },
   "outputs": [],
   "source": [
    "data['created_at'] = pd.to_datetime(data['created_at'], format=\"%Y-%m-%d %H:%M:%S\")\n",
    "data['created_at_date'] = pd.to_datetime(data['created_at']).dt.date\n",
    "data['created_at_time'] = pd.to_datetime(data['created_at']).dt.strftime(\"%H:%M\")\n",
    "data['created_at_time'] = pd.to_datetime(data['created_at_time'], format=\"%H:%M\")\n",
    "data['created_at_time'] = pd.to_datetime(data['created_at_time']).dt.strftime(\"%Y-%m-%d %H:%M:%S\")\n",
    "data['last_assigned_at'] = pd.to_datetime(data['last_assigned_at'], format=\"%Y-%m-%d %H:%M:%S\")\n",
    "data['last_assigned_at_date'] = pd.to_datetime(data['last_assigned_at']).dt.date\n",
    "data['last_assigned_at_time'] = pd.to_datetime(data['last_assigned_at']).dt.strftime(\"%H:%M\")\n",
    "data['last_assigned_at_time'] = pd.to_datetime(data['last_assigned_at_time'], format=\"%H:%M\")\n",
    "data['last_assigned_at_time'] = pd.to_datetime(data['last_assigned_at_time']).dt.strftime(\"%Y-%m-%d %H:%M:%S\")\n",
    "data['first_assigned_at'] = pd.to_datetime(data['first_assigned_at'], format=\"%Y-%m-%d %H:%M:%S\")\n",
    "data['first_assigned_at_date'] = pd.to_datetime(data['first_assigned_at']).dt.date\n",
    "data['first_assigned_at_time'] = pd.to_datetime(data['first_assigned_at']).dt.strftime(\"%H:%M\")\n",
    "data['first_assigned_at_time'] = pd.to_datetime(data['first_assigned_at_time'], format=\"%H:%M\")\n",
    "data['first_assigned_at_time'] = pd.to_datetime(data['first_assigned_at_time']).dt.strftime(\"%Y-%m-%d %H:%M:%S\")"
   ]
  },
  {
   "cell_type": "code",
   "execution_count": null,
   "id": "5857b428-19ac-486f-8df4-07ec21552701",
   "metadata": {
    "tags": []
   },
   "outputs": [],
   "source": [
    "df_new = pd.DataFrame(data)\n",
    "df_new['diff_time'] = data['created_at'] - data['last_assigned_at']\n",
    "df_new['time_diff'] = df_new['diff_time'].dt.total_seconds() / 60\n",
    "\n",
    "intervals = [-np.inf, 1, 2, 3, 4, 5, 10, 15, 20, 25, np.inf]\n",
    "labels_1 = ['Under 1 mins', '1 min to 2', '2 min to 3', '3 min to 4', '4 min to 5', '5 mins to 10', '10 mins to 15', '15 mins to 20', '20 mins to 25', '25+ mins']\n",
    "df_new['name_diff'] = pd.cut(np.abs(df_new['time_diff']), intervals, labels=labels_1)\n",
    "\n",
    "value_counts = df_new['name_diff'].value_counts().reset_index()\n",
    "value_counts.columns = ['Time Difference', 'Frequency']\n",
    "\n",
    "fig = px.bar(value_counts, x='Frequency', y='Time Difference', orientation='h',\n",
    "             title='Created at VS Last assigned at')\n",
    "\n",
    "fig.show()"
   ]
  },
  {
   "cell_type": "code",
   "execution_count": null,
   "id": "57c3f2f6-ac9d-4306-8c4e-554f25988ea0",
   "metadata": {
    "tags": []
   },
   "outputs": [],
   "source": [
    "df_new_2 = pd.DataFrame(data)\n",
    "df_new_2['diff_time_2'] = data['created_at'] - data['first_assigned_at']\n",
    "df_new_2['time_diff_2'] = df_new_2['diff_time_2'].dt.total_seconds() / 60\n",
    "\n",
    "intervals = [-np.inf, 1, 2, 3, 4, 5, 10, 15, 20, 25, np.inf]\n",
    "labels_1 = ['Under 1 mins', '1 min to 2', '2 min to 3', '3 min to 4', '4 min to 5', '5 mins to 10', '10 mins to 15', '15 mins to 20', '20 mins to 25', '25+ mins']\n",
    "df_new_2['name_diff_2'] = pd.cut(np.abs(df_new_2['time_diff_2']), intervals, labels=labels_1)\n",
    "\n",
    "value_counts_2 = df_new_2['name_diff_2'].value_counts().reset_index()\n",
    "value_counts_2.columns = ['Time Difference', 'Frequency']\n",
    "\n",
    "fig = px.bar(value_counts_2, x='Frequency', y='Time Difference', orientation='h',\n",
    "             title='Created at VS First assigned at')\n",
    "\n",
    "fig.show()"
   ]
  },
  {
   "cell_type": "code",
   "execution_count": null,
   "id": "06c6395f-e026-4b14-b2a1-499ea0abd489",
   "metadata": {
    "tags": []
   },
   "outputs": [],
   "source": [
    "df_new_3 = df_new_2[df_new_2['name_diff_2'] == 'Under 1 mins']\n",
    "df_new_3['time_diff_2'] = df_new_3['time_diff_2'] * 60\n",
    "\n",
    "intervals_2 = [-np.inf, 10, 20, 30, 40, 50, np.inf]\n",
    "labels_2 = ['Under 10 sec', '10 sec to 20', '20 sec to 30', '30 sec to 40', '40 sec to 50', '50 sec to 60']\n",
    "df_new_3['name_diff_2'] = pd.cut(np.abs(df_new_3['time_diff_2']), intervals_2, labels=labels_2)\n",
    "\n",
    "value_counts_3 = df_new_3['name_diff_2'].value_counts().reset_index()\n",
    "value_counts_3.columns = ['Time Difference', 'Frequency']\n",
    "\n",
    "fig = px.bar(value_counts_3, x='Frequency', y='Time Difference', orientation='h',\n",
    "             title='Created at VS First assigned at')\n",
    "\n",
    "fig.show()"
   ]
  },
  {
   "cell_type": "code",
   "execution_count": null,
   "id": "2477c261-cbf9-4661-81b2-06c7e424e605",
   "metadata": {
    "tags": []
   },
   "outputs": [],
   "source": [
    "df_new_4 = df_new[df_new['name_diff'] == 'Under 1 mins']\n",
    "df_new_4['time_diff'] = df_new_4['time_diff'] * 60\n",
    "\n",
    "intervals_2 = [-np.inf, 10, 20, 30, 40, 50, np.inf]\n",
    "labels_2 = ['Under 10 sec', '10 sec to 20', '20 sec to 30', '30 sec to 40', '40 sec to 50', '50 sec to 60']\n",
    "df_new_4['name_diff'] = pd.cut(np.abs(df_new_4['time_diff']), intervals_2, labels=labels_2)\n",
    "\n",
    "value_counts_4 = df_new_4['name_diff'].value_counts().reset_index()\n",
    "value_counts_4.columns = ['Time Difference', 'Frequency']\n",
    "\n",
    "fig = px.bar(value_counts_4, x='Frequency', y='Time Difference', orientation='h',\n",
    "             title='Created at VS Last assigned at')\n",
    "\n",
    "fig.show()"
   ]
  }
 ],
 "metadata": {
  "kernelspec": {
   "display_name": "Python 3 (ipykernel)",
   "language": "python",
   "name": "python3"
  },
  "language_info": {
   "codemirror_mode": {
    "name": "ipython",
    "version": 3
   },
   "file_extension": ".py",
   "mimetype": "text/x-python",
   "name": "python",
   "nbconvert_exporter": "python",
   "pygments_lexer": "ipython3",
   "version": "3.9.12"
  }
 },
 "nbformat": 4,
 "nbformat_minor": 5
}
