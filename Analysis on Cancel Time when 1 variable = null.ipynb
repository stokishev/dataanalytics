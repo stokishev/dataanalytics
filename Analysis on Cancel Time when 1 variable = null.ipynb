{
 "cells": [
  {
   "cell_type": "code",
   "execution_count": null,
   "id": "5acfeaf3-6f0c-4e6e-9515-e91a2e6eb3ed",
   "metadata": {
    "tags": []
   },
   "outputs": [],
   "source": [
    "import pandas as pd\n",
    "import numpy as np\n",
    "from ggv.utils.context import create_default_context\n",
    "import warnings\n",
    "import plotly.graph_objects as go\n",
    "import plotly.express as px\n",
    "import plotly.io as pio\n",
    "import plotly\n",
    "from plotly.subplots import make_subplots\n",
    "import datetime\n",
    "import matplotlib.pyplot as plt\n",
    "\n",
    "warnings.filterwarnings('ignore')\n",
    "context = create_default_context()\n",
    "bq_db= context.get_ds('YOUR CONTEXT')"
   ]
  },
  {
   "cell_type": "code",
   "execution_count": null,
   "id": "e925c361-ab08-4ff5-b813-86ec82fce9eb",
   "metadata": {
    "tags": []
   },
   "outputs": [],
   "source": [
    "def get_cancel_time(): \n",
    "\n",
    "       query= f\"\"\" \n",
    "       SELECT\n",
    "  system_order_request_id,\n",
    "  DATE_DIFF(cancelled_at, created_at, millisecond) AS cancel_time,\n",
    "  created_at,\n",
    "  cancelled_at\n",
    "FROM\n",
    "  `TableName`\n",
    "WHERE\n",
    "  status= 'cancelled'\n",
    "  AND cancelled_at IS NOT NULL\n",
    "  AND first_assigned_at IS NULL\n",
    "GROUP BY\n",
    "  1,\n",
    "  2,\n",
    "  3,\n",
    "  4\n",
    "       \"\"\" \n",
    "       return bq_db.df_from_sql(query)"
   ]
  },
  {
   "cell_type": "code",
   "execution_count": null,
   "id": "882b661b-4e90-46ab-b517-a5a92c331b02",
   "metadata": {
    "tags": []
   },
   "outputs": [],
   "source": [
    "def vehicle_cancel(df): \n",
    "    df['cancel_minute']= round((df['cancel_time'] / 60000),4)\n",
    "    df['cancel_second']= round((df['cancel_time'] / 1000),4)\n",
    "    df2=df.sort_values(by=['cancel_minute']).reset_index(drop=True)\n",
    "    df2=df.sort_values(by=['cancel_second']).reset_index(drop=True)\n",
    "    df_cancel_time=df2\n",
    "    df_cancel_time['count']=1\n",
    "    df_cancel_time['cum_perc']= 100 * (df_cancel_time['count'].cumsum()) / df_cancel_time['count'].sum() \n",
    "    return df_cancel_time "
   ]
  },
  {
   "cell_type": "code",
   "execution_count": null,
   "id": "89741960-3019-47fc-9a14-746661f31521",
   "metadata": {
    "tags": []
   },
   "outputs": [],
   "source": [
    "data = get_cancel_time()"
   ]
  },
  {
   "cell_type": "code",
   "execution_count": null,
   "id": "12ff0171-74f3-4d38-a579-f0a05a615b59",
   "metadata": {
    "tags": []
   },
   "outputs": [],
   "source": [
    "data_agg = vehicle_cancel(data)"
   ]
  },
  {
   "cell_type": "code",
   "execution_count": null,
   "id": "80d1d2a2-c532-403a-840e-120b8141e0eb",
   "metadata": {
    "tags": []
   },
   "outputs": [],
   "source": [
    "def group_cancel_seconds(seconds):\n",
    "    if seconds <= 10:\n",
    "        return \"0-10\"\n",
    "    elif seconds <= 60:\n",
    "        return \"11-60\"\n",
    "    elif seconds <= 300:\n",
    "        return \"61-300\"\n",
    "    else:\n",
    "        return \"300+\""
   ]
  },
  {
   "cell_type": "code",
   "execution_count": null,
   "id": "7c6e7cc8-9fb6-4426-b818-f1b632c049ae",
   "metadata": {
    "tags": []
   },
   "outputs": [],
   "source": [
    "def group_cancel_minutes(minutes):\n",
    "    if minutes <= 1:\n",
    "        return \"0-1\"\n",
    "    elif minutes <= 2:\n",
    "        return \"1-2\"\n",
    "    elif minutes <= 3:\n",
    "        return \"2-3\"\n",
    "    elif minutes <= 4:\n",
    "        return \"3-4\"\n",
    "    elif minutes <= 5:\n",
    "        return \"4-5\"\n",
    "    else:\n",
    "        return \"5+\""
   ]
  },
  {
   "cell_type": "code",
   "execution_count": null,
   "id": "64e7af28-faa4-4a96-b1dc-b9d8b56b001c",
   "metadata": {
    "tags": []
   },
   "outputs": [],
   "source": [
    "data_agg['cancel_group'] = data_agg['cancel_second'].apply(group_cancel_seconds)"
   ]
  },
  {
   "cell_type": "code",
   "execution_count": null,
   "id": "c35f41cd-3ed6-425d-948c-3c1b96aacecf",
   "metadata": {
    "tags": []
   },
   "outputs": [],
   "source": [
    "grouped_data = data_agg.groupby(['cancel_group']).size().reset_index(name='count')\n",
    "grouped_data = grouped_data.sort_values('count', ascending=True)"
   ]
  },
  {
   "cell_type": "code",
   "execution_count": null,
   "id": "23f2a65c-4239-4d91-b81c-51db9a5ef1e6",
   "metadata": {
    "tags": []
   },
   "outputs": [],
   "source": [
    "fig = px.bar(grouped_data, \n",
    "             x='cancel_group', \n",
    "             y='count', \n",
    "             barmode='stack',\n",
    "             labels={\n",
    "            \"cancel_group\": \"Cancel Group (Seconds)\",\n",
    "                 'count': 'Frequency'\n",
    "            },\n",
    "             title='Distribution of Cancel Time (Seconds)'   \n",
    ")\n",
    "\n",
    "fig.update_xaxes(categoryorder='array', categoryarray= ['0-10', '11-60','61-300','300+'])\n",
    "\n",
    "fig.show()"
   ]
  },
  {
   "cell_type": "code",
   "execution_count": null,
   "id": "1ce9f28f-b6a3-4f24-b73e-731d5dfffd89",
   "metadata": {
    "tags": []
   },
   "outputs": [],
   "source": [
    "data_agg['cancel_group'] = data_agg['cancel_minute'].apply(group_cancel_minutes)"
   ]
  },
  {
   "cell_type": "code",
   "execution_count": null,
   "id": "39648fd4-f942-46ca-99f5-2d0dd64d4714",
   "metadata": {
    "tags": []
   },
   "outputs": [],
   "source": [
    "grouped_data = data_agg.groupby(['cancel_group']).size().reset_index(name='count')\n",
    "grouped_data = grouped_data.sort_values('count', ascending=True)"
   ]
  },
  {
   "cell_type": "code",
   "execution_count": null,
   "id": "10c82f9a-132e-4bba-b0c5-b7e54cd06d6c",
   "metadata": {},
   "outputs": [],
   "source": [
    "fig = px.bar(grouped_data, \n",
    "             x='cancel_group', \n",
    "             y='count', \n",
    "             barmode='stack',\n",
    "             labels={\n",
    "            \"cancel_group\": \"Cancel Group (Seconds)\",\n",
    "                 'count': 'Frequency'\n",
    "            },\n",
    "             title='Distribution of Cancel Time (Seconds)'   \n",
    ")\n",
    "\n",
    "fig.update_xaxes(categoryorder='array', categoryarray= ['0-10', '11-60','61-300','300+'])\n",
    "\n",
    "fig.show()"
   ]
  }
 ],
 "metadata": {
  "kernelspec": {
   "display_name": "Python 3 (ipykernel)",
   "language": "python",
   "name": "python3"
  },
  "language_info": {
   "codemirror_mode": {
    "name": "ipython",
    "version": 3
   },
   "file_extension": ".py",
   "mimetype": "text/x-python",
   "name": "python",
   "nbconvert_exporter": "python",
   "pygments_lexer": "ipython3",
   "version": "3.9.12"
  }
 },
 "nbformat": 4,
 "nbformat_minor": 5
}
