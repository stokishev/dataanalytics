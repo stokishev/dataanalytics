{
 "cells": [
  {
   "cell_type": "code",
   "execution_count": null,
   "id": "11740b5d-6f48-4fc5-952b-8de989d896d1",
   "metadata": {
    "tags": []
   },
   "outputs": [],
   "source": [
    "import pandas as pd\n",
    "import numpy as np\n",
    "from ggv.utils.context import create_default_context\n",
    "import warnings\n",
    "import plotly.graph_objects as go\n",
    "import plotly.express as px\n",
    "import plotly.io as pio\n",
    "import plotly\n",
    "from plotly.subplots import make_subplots\n",
    "import datetime\n",
    "import matplotlib.pyplot as plt\n",
    "\n",
    "warnings.filterwarnings('ignore')\n",
    "context = create_default_context()\n",
    "bq_db= context.get_ds('YOUR CONTEXT')"
   ]
  },
  {
   "cell_type": "markdown",
   "id": "0beca28f-1f04-4bf6-b696-40c4d650784b",
   "metadata": {},
   "source": [
    "### Cancel Time\n"
   ]
  },
  {
   "cell_type": "code",
   "execution_count": null,
   "id": "1ed75954-b5b5-4913-b59d-8d77eb60df2a",
   "metadata": {
    "tags": []
   },
   "outputs": [],
   "source": [
    "def get_cancel_time(country,start_date,end_date,product_name): \n",
    "\n",
    "       query= f\"\"\" \n",
    "       SELECT\n",
    "          system_order_request_id,\n",
    "          booking_type,\n",
    "          DATE_DIFF(cancelled_at, created_at, millisecond) AS cancel_time,\n",
    "          created_at,\n",
    "          cancelled_at\n",
    "        FROM\n",
    "          `table_{country}`\n",
    "        WHERE\n",
    "          status= 'cancelled'\n",
    "          AND DATETIME(created_at) BETWEEN DATETIME('{start_date}')\n",
    "          AND DATETIME('{end_date}')\n",
    "          AND product_name= '{product_name}'\n",
    "          AND cancelled_at is not null\n",
    "        GROUP BY\n",
    "          1,\n",
    "          2,\n",
    "          3,\n",
    "          4,\n",
    "          5\n",
    "       \"\"\" \n",
    "       return bq_db.df_from_sql(query)\n"
   ]
  },
  {
   "cell_type": "code",
   "execution_count": null,
   "id": "f3275176-fddf-4575-9046-e2340df510b7",
   "metadata": {
    "tags": []
   },
   "outputs": [],
   "source": [
    "def vehicle_cancel(df): \n",
    "    df['cancel_minute']= round((df['cancel_time'] / 60000),4) \n",
    "    df2=df.sort_values(by=['cancel_minute']).reset_index(drop=True)\n",
    "    df_cancel_time=df2\n",
    "    df_cancel_time['count']=1\n",
    "    df_cancel_time['cum_perc']= 100 * (df_cancel_time['count'].cumsum()) / df_cancel_time['count'].sum() \n",
    "    return df_cancel_time "
   ]
  },
  {
   "cell_type": "code",
   "execution_count": null,
   "id": "67bf1403-7283-4a90-ae99-6298431e38f8",
   "metadata": {
    "tags": []
   },
   "outputs": [],
   "source": [
    "def order_type_count_cancel(df, start_time, end_time=0):\n",
    "    if start_time < 1: \n",
    "        df2= df[(df['cancel_minute'] <1) & (df['cancel_minute']>0)]\n",
    "        data= [] \n",
    "        data.append(df2[df2['booking_type']=='Next Day']['system_order_request_id'].count()) \n",
    "        data.append(df2[df2['booking_type']=='Same Day']['system_order_request_id'].count()) \n",
    "        data.append(df2[df2['booking_type']=='On Demand']['system_order_request_id'].count())\n",
    "        \n",
    "    if start_time >= 1 and start_time <= 120: \n",
    "        df2= df[(df['cancel_minute']>= start_time) & (df['cancel_minute']< end_time)]\n",
    "        data=[]\n",
    "        data.append(df2[df2['booking_type']=='Next Day']['system_order_request_id'].count()) \n",
    "        data.append(df2[df2['booking_type']=='Same Day']['system_order_request_id'].count()) \n",
    "        data.append(df2[df2['booking_type']=='On Demand']['system_order_request_id'].count())\n",
    "    \n",
    "    if start_time > 120 and start_time < 240: \n",
    "        df2= df[(df['cancel_minute'] >= 60) & (df['cancel_minute'] < 240)]\n",
    "        data= [] \n",
    "        data.append(df2[df2['booking_type']=='Next Day']['system_order_request_id'].count()) \n",
    "        data.append(df2[df2['booking_type']=='Same Day']['system_order_request_id'].count()) \n",
    "        data.append(df2[df2['booking_type']=='On Demand']['system_order_request_id'].count())\n",
    "    \n",
    "    if start_time >= 240: \n",
    "        df2= df[df['cancel_minute'] >= 240]\n",
    "        data= [] \n",
    "        data.append(df2[df2['booking_type']=='Next Day']['system_order_request_id'].count()) \n",
    "        data.append(df2[df2['booking_type']=='Same Day']['system_order_request_id'].count()) \n",
    "        data.append(df2[df2['booking_type']=='On Demand']['system_order_request_id'].count())\n",
    "    \n",
    "    return data "
   ]
  },
  {
   "cell_type": "code",
   "execution_count": null,
   "id": "23942587-3fb8-4b93-8d2b-1420ed4a4925",
   "metadata": {
    "tags": []
   },
   "outputs": [],
   "source": [
    "def get_y_axis(df): \n",
    "    x_axis= ['<1','1','2','3','4','5','6','7','8','9','10','11','12','13','14','15','16','17','18','19','20-29.99','30-39.99','40-49.99','50-59.99','60-239.99','>=240']\n",
    "    y_axis= [order_type_count_cancel(df,0.9),\n",
    "         order_type_count_cancel(df,1,2),\n",
    "         order_type_count_cancel(df,2,3),\n",
    "         order_type_count_cancel(df,3,4),\n",
    "         order_type_count_cancel(df,4,5),\n",
    "         order_type_count_cancel(df,5,6),\n",
    "         order_type_count_cancel(df,6,7),\n",
    "         order_type_count_cancel(df,7,8),\n",
    "         order_type_count_cancel(df,8,9),\n",
    "         order_type_count_cancel(df,9,10),\n",
    "         order_type_count_cancel(df,10,11),\n",
    "         order_type_count_cancel(df,11,12),\n",
    "         order_type_count_cancel(df,12,13),\n",
    "         order_type_count_cancel(df,13,14),\n",
    "         order_type_count_cancel(df,14,15),\n",
    "         order_type_count_cancel(df,15,16),\n",
    "         order_type_count_cancel(df,16,17),\n",
    "         order_type_count_cancel(df,17,18),\n",
    "         order_type_count_cancel(df,18,19),\n",
    "         order_type_count_cancel(df,19,20),\n",
    "         order_type_count_cancel(df,20,30),\n",
    "         order_type_count_cancel(df,30,40),\n",
    "         order_type_count_cancel(df,40,50),\n",
    "         order_type_count_cancel(df,50,60),\n",
    "         order_type_count_cancel(df,60,120),\n",
    "         order_type_count_cancel(df,240)]\n",
    "    return x_axis, y_axis "
   ]
  },
  {
   "cell_type": "code",
   "execution_count": null,
   "id": "9915cbde-4a10-4436-9686-950406f7265c",
   "metadata": {
    "tags": []
   },
   "outputs": [],
   "source": [
    "def y_axis_split(y_axis): \n",
    "    y1=[] \n",
    "    y2=[] \n",
    "    y3=[]\n",
    "    for y in y_axis: \n",
    "        y1.append(y[0])\n",
    "        y2.append(y[1])\n",
    "        y3.append(y[2])\n",
    "    return y1,y2,y3"
   ]
  },
  {
   "cell_type": "code",
   "execution_count": null,
   "id": "f2105da7-ef62-4ccb-89c7-da414e233b99",
   "metadata": {
    "tags": []
   },
   "outputs": [],
   "source": [
    "def vehicle_cancel_list(df): \n",
    "    x_vehicle_cancel= ['<1','1','2','3','4','5','6','7','8','9','10','11','12','13','14','15','16','17','18','19','20-29.99','30-39.99','40-49.99','50-59.99','60-239.99','>=240']\n",
    "    y_vehicle_cancel=[df[df['cancel_minute']<1]['cum_perc'].max(),\n",
    "          df[(df['cancel_minute']>1)& (df['cancel_minute']<2)]['cum_perc'].max(),\n",
    "          df[(df['cancel_minute']>2)& (df['cancel_minute']<3)]['cum_perc'].max(),\n",
    "          df[(df['cancel_minute']>3)& (df['cancel_minute']<4)]['cum_perc'].max(),\n",
    "          df[(df['cancel_minute']>4)& (df['cancel_minute']<5)]['cum_perc'].max(),\n",
    "          df[(df['cancel_minute']>5)& (df['cancel_minute']<6)]['cum_perc'].max(),\n",
    "          df[(df['cancel_minute']>6)& (df['cancel_minute']<7)]['cum_perc'].max(),\n",
    "          df[(df['cancel_minute']>7)& (df['cancel_minute']<8)]['cum_perc'].max(),\n",
    "          df[(df['cancel_minute']>8)& (df['cancel_minute']<9)]['cum_perc'].max(),\n",
    "          df[(df['cancel_minute']>9)& (df['cancel_minute']<10)]['cum_perc'].max(),\n",
    "          df[(df['cancel_minute']>10)& (df['cancel_minute']<11)]['cum_perc'].max(),\n",
    "          df[(df['cancel_minute']>11)& (df['cancel_minute']<12)]['cum_perc'].max(),\n",
    "          df[(df['cancel_minute']>12)& (df['cancel_minute']<13)]['cum_perc'].max(),\n",
    "          df[(df['cancel_minute']>13)& (df['cancel_minute']<14)]['cum_perc'].max(),\n",
    "          df[(df['cancel_minute']>14)& (df['cancel_minute']<15)]['cum_perc'].max(),\n",
    "          df[(df['cancel_minute']>15)& (df['cancel_minute']<16)]['cum_perc'].max(),\n",
    "          df[(df['cancel_minute']>16)& (df['cancel_minute']<17)]['cum_perc'].max(),\n",
    "          df[(df['cancel_minute']>17)& (df['cancel_minute']<18)]['cum_perc'].max(),\n",
    "          df[(df['cancel_minute']>18)& (df['cancel_minute']<19)]['cum_perc'].max(),\n",
    "          df[(df['cancel_minute']>19)& (df['cancel_minute']<20)]['cum_perc'].max(),\n",
    "          df[(df['cancel_minute']>=20)& (df['cancel_minute']<30)]['cum_perc'].max(),\n",
    "          df[(df['cancel_minute']>=30)& (df['cancel_minute']<40)]['cum_perc'].max(),\n",
    "          df[(df['cancel_minute']>=40)& (df['cancel_minute']<50)]['cum_perc'].max(),\n",
    "          df[(df['cancel_minute']>=50)& (df['cancel_minute']<60)]['cum_perc'].max(),\n",
    "          df[(df['cancel_minute']>=60)& (df['cancel_minute']<240)]['cum_perc'].max(),\n",
    "          df[df['cancel_minute']>=240]['cum_perc'].max()\n",
    "          ]\n",
    "    return x_vehicle_cancel, y_vehicle_cancel"
   ]
  },
  {
   "cell_type": "code",
   "execution_count": null,
   "id": "06d96034-de09-4e9c-a3de-9388ca5e8249",
   "metadata": {
    "tags": []
   },
   "outputs": [],
   "source": [
    "def vehicle_order_cancel(df, order):\n",
    "    df2= df.loc[df['booking_type']==f'{order}']\n",
    "    df2= df2[['system_order_request_id','booking_type','cancel_time', 'cancel_minute']]\n",
    "    df2['count']= 1 \n",
    "    df2['cum_perc']= 100 * (df2['count'].cumsum()) / df2['count'].sum() \n",
    "    \n",
    "    x_vehicle_order_cancel= ['<1','1','2','3','4','5','6','7','8','9','10','11','12','13','14','15','16','17','18','19','20-29.99','30-39.99','40-49.99','50-59.99','60-239.99','>=240']\n",
    "    y_vehicle_order_cancel=[df2[df2['cancel_minute']<1]['cum_perc'].max(),\n",
    "          df2[(df2['cancel_minute']>1)& (df2['cancel_minute']<2)]['cum_perc'].max(),\n",
    "          df2[(df2['cancel_minute']>2)& (df2['cancel_minute']<3)]['cum_perc'].max(),\n",
    "          df2[(df2['cancel_minute']>3)& (df2['cancel_minute']<4)]['cum_perc'].max(),\n",
    "          df2[(df2['cancel_minute']>4)& (df2['cancel_minute']<5)]['cum_perc'].max(),\n",
    "          df2[(df2['cancel_minute']>5)& (df2['cancel_minute']<6)]['cum_perc'].max(),\n",
    "          df2[(df2['cancel_minute']>6)& (df2['cancel_minute']<7)]['cum_perc'].max(),\n",
    "          df2[(df2['cancel_minute']>7)& (df2['cancel_minute']<8)]['cum_perc'].max(),\n",
    "          df2[(df2['cancel_minute']>8)& (df2['cancel_minute']<9)]['cum_perc'].max(),\n",
    "          df2[(df2['cancel_minute']>9)& (df2['cancel_minute']<10)]['cum_perc'].max(),\n",
    "          df2[(df2['cancel_minute']>10)& (df2['cancel_minute']<11)]['cum_perc'].max(),\n",
    "          df2[(df2['cancel_minute']>11)& (df2['cancel_minute']<12)]['cum_perc'].max(),\n",
    "          df2[(df2['cancel_minute']>12)& (df2['cancel_minute']<13)]['cum_perc'].max(),\n",
    "          df2[(df2['cancel_minute']>13)& (df2['cancel_minute']<14)]['cum_perc'].max(),\n",
    "          df2[(df2['cancel_minute']>14)& (df2['cancel_minute']<15)]['cum_perc'].max(),\n",
    "          df2[(df2['cancel_minute']>15)& (df2['cancel_minute']<16)]['cum_perc'].max(),\n",
    "          df2[(df2['cancel_minute']>16)& (df2['cancel_minute']<17)]['cum_perc'].max(),\n",
    "          df2[(df2['cancel_minute']>17)& (df2['cancel_minute']<18)]['cum_perc'].max(),\n",
    "          df2[(df2['cancel_minute']>18)& (df2['cancel_minute']<19)]['cum_perc'].max(),\n",
    "          df2[(df2['cancel_minute']>19)& (df2['cancel_minute']<20)]['cum_perc'].max(),\n",
    "          df2[(df2['cancel_minute']>=20)& (df2['cancel_minute']<30)]['cum_perc'].max(),\n",
    "          df2[(df2['cancel_minute']>=30)& (df2['cancel_minute']<40)]['cum_perc'].max(),\n",
    "          df2[(df2['cancel_minute']>=40)& (df2['cancel_minute']<50)]['cum_perc'].max(),\n",
    "          df2[(df2['cancel_minute']>=50)& (df2['cancel_minute']<60)]['cum_perc'].max(),\n",
    "          df2[(df2['cancel_minute']>=60)& (df2['cancel_minute']<240)]['cum_perc'].max(),\n",
    "          df2[df2['cancel_minute']>=240]['cum_perc'].max()\n",
    "          ]\n",
    "    return x_vehicle_order_cancel, y_vehicle_order_cancel"
   ]
  },
  {
   "cell_type": "code",
   "execution_count": null,
   "id": "8f5be5d1-478a-4bfa-a6c2-465011b8609e",
   "metadata": {
    "tags": []
   },
   "outputs": [],
   "source": [
    "cancel= get_cancel_time('vn','2021-10-11','2022-10-10','TRANSPORT')"
   ]
  },
  {
   "cell_type": "markdown",
   "id": "795937db-99e2-4ae9-9445-cf4b3866005d",
   "metadata": {},
   "source": [
    "### VAN"
   ]
  },
  {
   "cell_type": "code",
   "execution_count": null,
   "id": "c00a80c4-bfb9-4793-b404-173cc6d19572",
   "metadata": {
    "tags": []
   },
   "outputs": [],
   "source": [
    "van_cancel= vehicle_cancel(cancel)"
   ]
  },
  {
   "cell_type": "code",
   "execution_count": null,
   "id": "605da27b-97f1-4870-a7f9-18b6e4d16d76",
   "metadata": {
    "tags": []
   },
   "outputs": [],
   "source": [
    "x_axis_van, y_axis_van= get_y_axis(van_cancel)"
   ]
  },
  {
   "cell_type": "code",
   "execution_count": null,
   "id": "08f6b004-3aad-4f45-8561-568ad7f847ba",
   "metadata": {
    "tags": []
   },
   "outputs": [],
   "source": [
    "y1_van, y2_van, y3_van= y_axis_split(y_axis_van) "
   ]
  },
  {
   "cell_type": "code",
   "execution_count": null,
   "id": "2c0b13db-f0dc-41fb-b6cc-29eca84880e7",
   "metadata": {
    "tags": []
   },
   "outputs": [],
   "source": [
    "x_van_cancel, y_van_cancel= vehicle_cancel_list(van_cancel)"
   ]
  },
  {
   "cell_type": "code",
   "execution_count": null,
   "id": "7629223a-9d87-44d4-92fb-e0231004e216",
   "metadata": {
    "tags": []
   },
   "outputs": [],
   "source": [
    "x_van_ondemand, y_van_ondemand= vehicle_order_cancel(van_cancel, 'On Demand')"
   ]
  },
  {
   "cell_type": "code",
   "execution_count": null,
   "id": "e02bb198-ae96-4fdb-a1f5-b78538a936a1",
   "metadata": {
    "tags": []
   },
   "outputs": [],
   "source": [
    "x_van_sameday, y_van_sameday= vehicle_order_cancel(van_cancel, 'Same Day')"
   ]
  },
  {
   "cell_type": "code",
   "execution_count": null,
   "id": "aceb1e52-dbcf-4e81-8c4b-2388b49f54e3",
   "metadata": {
    "tags": []
   },
   "outputs": [],
   "source": [
    "x_van_nextday, y_van_nextday= vehicle_order_cancel(van_cancel, 'Next Day')"
   ]
  },
  {
   "cell_type": "code",
   "execution_count": null,
   "id": "f0f67612-e9cc-47a6-ab04-cd2eac6fa328",
   "metadata": {
    "tags": []
   },
   "outputs": [],
   "source": [
    "fig= make_subplots(specs=[[{'secondary_y':True}]])\n",
    "fig.add_trace(go.Bar(name='Next Day',x=x_axis_van, y=y1_van, marker_color='#636EFA'))\n",
    "fig.add_trace(go.Bar(name='Same Day',x=x_axis_van, y=y2_van, marker_color='#EF553B')) \n",
    "fig.add_trace(go.Bar(name='On Demand',x=x_axis_van, y=y3_van, marker_color='#00CC96'))\n",
    "\n",
    "fig.add_trace(go.Scatter(x=x_van_cancel, y=y_van_cancel, mode= 'lines', name='Cumulative %'), secondary_y=True)\n",
    "fig.add_trace(go.Scatter(x=x_van_sameday, y=y_van_sameday, mode= 'lines', name='Cumulative % (Same Day)', \n",
    "                         visible= 'legendonly', line_color='#AB63FA'), secondary_y=True)\n",
    "fig.add_trace(go.Scatter(x=x_van_nextday, y=y_van_nextday, mode= 'lines', name='Cumulative % (Next Day)', \n",
    "                         visible= 'legendonly', line_color='#EF553B'), secondary_y=True)\n",
    "fig.add_trace(go.Scatter(x=x_van_ondemand, y=y_van_ondemand, mode= 'lines', name='Cumulative %(On Demand)', \n",
    "                         visible= 'legendonly', line_color='#AB63FA'), secondary_y=True)\n",
    "\n",
    "\n",
    "fig.update_layout(title='Distribution of cancel time', xaxis_title='Cancel Time (minute)',\n",
    "                 yaxis_title='Number of Orders', barmode='stack') \n",
    "\n",
    "fig.update_layout(updatemenus=[go.layout.Updatemenu(active=0,\n",
    "                      buttons=list(\n",
    "                      [dict(label= 'All',\n",
    "                           method= 'update',\n",
    "                           args= [{'visible': [True,True,True,True,False,False,False]},\n",
    "                                  {'title': 'Distribution of cancel time', \n",
    "                                  'showlegend':True}]),\n",
    "                       dict(label= 'on demand',\n",
    "                           method= 'update',\n",
    "                           args= [{'visible': [False,False,True,False,False,False,True]},\n",
    "                                  {'title': 'Distribution of on demand order cancel time', \n",
    "                                  'showlegend':True}]),\n",
    "                       dict(label= 'booking same day',\n",
    "                           method= 'update',\n",
    "                           args= [{'visible': [False,True,False,False,True,False,False]},\n",
    "                                  {'title': 'Distribution of booking same day order cancel time', \n",
    "                                  'showlegend':True}]),\n",
    "                       dict(label= 'booking next day',\n",
    "                           method= 'update',\n",
    "                           args= [{'visible': [True,False,False,False,False,True,False]},\n",
    "                                  {'title': 'Distribution of booking next day order cancel time', \n",
    "                                  'showlegend':True}]),\n",
    "                      ])\n",
    "                    )\n",
    "                  ]) \n",
    "\n",
    "fig.update_xaxes(tickangle=50) \n",
    "fig.update_yaxes(rangemode='tozero')\n",
    "fig.show()"
   ]
  },
  {
   "cell_type": "code",
   "execution_count": null,
   "id": "a28ca22e-93a7-4601-8830-7894cceaf791",
   "metadata": {
    "tags": []
   },
   "outputs": [],
   "source": [
    "van_cancel['date_hour'] = van_cancel['created_at'].dt.strftime('%H:%M:%S').str.slice(stop=13)\n",
    "van_cancel['hour'] = van_cancel['created_at'].dt.hour\n",
    "van_cancel"
   ]
  },
  {
   "cell_type": "code",
   "execution_count": null,
   "id": "dcdbecc6-309b-448f-bfe4-9d8e24aee641",
   "metadata": {
    "tags": []
   },
   "outputs": [],
   "source": [
    "def group_cancel_minutes(minutes):\n",
    "    if minutes <= 5:\n",
    "        return \"0-5\"\n",
    "    elif minutes <= 15:\n",
    "        return \"6-15\"\n",
    "    elif minutes <= 25:\n",
    "        return \"16-25\"\n",
    "    elif minutes <= 40:\n",
    "        return \"26-40\"\n",
    "    elif minutes <= 55:\n",
    "        return \"41-55\"\n",
    "    else:\n",
    "        return \"55+\"\n",
    "    "
   ]
  },
  {
   "cell_type": "code",
   "execution_count": null,
   "id": "79b8588c-7774-4a64-beee-49ff5c351b41",
   "metadata": {
    "tags": []
   },
   "outputs": [],
   "source": [
    "van_cancel['cancel_group'] = van_cancel['cancel_minute'].apply(group_cancel_minutes)"
   ]
  },
  {
   "cell_type": "code",
   "execution_count": null,
   "id": "7bd92180-981e-4a46-9e87-f07be63a215c",
   "metadata": {
    "tags": []
   },
   "outputs": [],
   "source": [
    "grouped_data = van_cancel.groupby(['hour','cancel_group', 'booking_type']).size().reset_index(name='count')"
   ]
  },
  {
   "cell_type": "code",
   "execution_count": null,
   "id": "66d2382a-9cf9-4714-a6fc-9452d5a47745",
   "metadata": {
    "tags": []
   },
   "outputs": [],
   "source": [
    "fig = px.bar(grouped_data, \n",
    "             x='hour', \n",
    "             y='count', \n",
    "             color='cancel_group',    \n",
    "             barmode='stack',\n",
    "             labels={\n",
    "            \"cancel_group\": \"cancel_group_minutes\",\n",
    "            },\n",
    "             title='All Booking Types (Cancel time)'   \n",
    ")\n",
    "\n",
    "fig_next_day = px.bar(\n",
    "    grouped_data[grouped_data['booking_type'] == 'Next Day'],\n",
    "    x='hour',\n",
    "    y='count',\n",
    "    color='cancel_group',\n",
    "    barmode='stack',\n",
    "    labels={\n",
    "            \"cancel_group\": \"cancel_group_minutes\",\n",
    "            },\n",
    "    title='Next Day Booking Type (Cancel time)'\n",
    ")\n",
    "\n",
    "# Chart for 'Same Day'\n",
    "fig_same_day = px.bar(\n",
    "    grouped_data[grouped_data['booking_type'] == 'Same Day'],\n",
    "    x='hour',\n",
    "    y='count',\n",
    "    color='cancel_group',\n",
    "    barmode='stack',\n",
    "    labels={\n",
    "            \"cancel_group\": \"cancel_group_minutes\",\n",
    "            },\n",
    "    title='Same Day Booking Type (Cancel time)'\n",
    ")\n",
    "\n",
    "# Chart for 'On Demand'\n",
    "fig_on_demand = px.bar(\n",
    "    grouped_data[grouped_data['booking_type'] == 'On Demand'],\n",
    "    x='hour',\n",
    "    y='count',\n",
    "    color='cancel_group',\n",
    "    barmode='stack',\n",
    "    labels={\n",
    "            \"cancel_group\": \"cancel_group_minutes\",\n",
    "            },\n",
    "    title='On Demand Booking Type (Cancel time)'\n",
    ")\n",
    "\n",
    "\n",
    "# Show the charts\n",
    "fig.show()\n",
    "fig_next_day.show()\n",
    "fig_same_day.show()\n",
    "fig_on_demand.show()"
   ]
  },
  {
   "cell_type": "markdown",
   "id": "c723a61d-e174-4d89-b5f2-26345dc2b818",
   "metadata": {},
   "source": [
    "### Cancel after Pickup"
   ]
  },
  {
   "cell_type": "code",
   "execution_count": null,
   "id": "938acb95-b714-4a7a-afcd-9e8f2b5347e2",
   "metadata": {
    "tags": []
   },
   "outputs": [],
   "source": [
    "def get_pickup_cancel(country,start_date,end_date,product_name): \n",
    "\n",
    "    \n",
    "       query= f\"\"\" \n",
    "       SELECT\n",
    "          system_order_request_id,\n",
    "          booking_type,\n",
    "          DATE_DIFF(request_pickup_time, cancelled_at, minute) AS cancel_time,\n",
    "          created_at,\n",
    "          cancelled_at,\n",
    "          request_pickup_time\n",
    "        FROM\n",
    "          `table_{country}`\n",
    "        WHERE\n",
    "          status= 'cancelled'\n",
    "          AND DATETIME(created_at) BETWEEN DATETIME('{start_date}')\n",
    "          AND DATETIME('{end_date}')\n",
    "          AND product_name= '{product_name}'\n",
    "          AND first_response_time IS NOT NULL\n",
    "          AND DATE_DIFF(cancelled_at, first_assigned_at, millisecond) > 0\n",
    "        GROUP BY\n",
    "          1,\n",
    "          2,\n",
    "          3,\n",
    "          4,\n",
    "          5,6\n",
    "       \"\"\" \n",
    "       return bq_db.df_from_sql(query)"
   ]
  },
  {
   "cell_type": "code",
   "execution_count": null,
   "id": "7266e9b2-5d18-4806-adc4-2d4a9a460f79",
   "metadata": {
    "tags": []
   },
   "outputs": [],
   "source": [
    "get_pickup_cancel('vn','2021-10-11','2022-10-10','TRANSPORT')"
   ]
  },
  {
   "cell_type": "code",
   "execution_count": null,
   "id": "3a480daa-1088-4717-a09c-f465f2d7e744",
   "metadata": {
    "tags": []
   },
   "outputs": [],
   "source": [
    "def vehicle_pickup_cancel(df): \n",
    "    df['cancel_hour']= round((df['cancel_time'] / 60),4) \n",
    "    df2=df.sort_values(by=['cancel_hour']).reset_index(drop=True)\n",
    "    df_cancel_time=df2\n",
    "    df_cancel_time= df_cancel_time.loc[df_cancel_time['cancel_hour']<=48]\n",
    "    df_cancel_time['count']=1\n",
    "    df_cancel_time['cum_perc']= 100 * (df_cancel_time['count'].cumsum()) / df_cancel_time['count'].sum()\n",
    "    return df_cancel_time "
   ]
  },
  {
   "cell_type": "code",
   "execution_count": null,
   "id": "0c341c04-092c-4a93-b58a-ce8be4ab0620",
   "metadata": {
    "tags": []
   },
   "outputs": [],
   "source": [
    "def cancel_hour_count(df, start_time, end_time=0):\n",
    "    if start_time == 0.5: \n",
    "        df2= df[(df['cancel_time'] >=1) & (df['cancel_time']<30)]\n",
    "        data= [] \n",
    "        data.append(df2[df2['booking_type']=='Next Day']['system_order_request_id'].count()) \n",
    "        data.append(df2[df2['booking_type']=='Same Day']['system_order_request_id'].count()) \n",
    "        data.append(df2[df2['booking_type']=='On Demand']['system_order_request_id'].count())\n",
    "    \n",
    "    if start_time == 0.99: \n",
    "        df2= df[(df['cancel_time'] >=30) & (df['cancel_time']<60)]\n",
    "        data= [] \n",
    "        data.append(df2[df2['booking_type']=='Next Day']['system_order_request_id'].count()) \n",
    "        data.append(df2[df2['booking_type']=='Same Day']['system_order_request_id'].count()) \n",
    "        data.append(df2[df2['booking_type']=='On Demand']['system_order_request_id'].count())\n",
    "        \n",
    "    if start_time >= 1 and start_time <= 120: \n",
    "        df2= df[(df['cancel_hour']>= start_time) & (df['cancel_hour']< end_time)]\n",
    "        data=[]\n",
    "        data.append(df2[df2['booking_type']=='Next Day']['system_order_request_id'].count()) \n",
    "        data.append(df2[df2['booking_type']=='Same Day']['system_order_request_id'].count()) \n",
    "        data.append(df2[df2['booking_type']=='On Demand']['system_order_request_id'].count())\n",
    "    \n",
    "    if start_time > 120 and start_time < 240: \n",
    "        df2= df[(df['cancel_hour'] >= 60) & (df['cancel_hour'] < 240)]\n",
    "        data= [] \n",
    "        data.append(df2[df2['booking_type']=='Next Day']['system_order_request_id'].count()) \n",
    "        data.append(df2[df2['booking_type']=='Same Day']['system_order_request_id'].count()) \n",
    "        data.append(df2[df2['booking_type']=='On Demand']['system_order_request_id'].count())\n",
    "    \n",
    "    if start_time >= 240: \n",
    "        df2= df[df['cancel_hour'] >= 240]\n",
    "        data= [] \n",
    "        data.append(df2[df2['booking_type']=='Next Day']['system_order_request_id'].count()) \n",
    "        data.append(df2[df2['booking_type']=='Same Day']['system_order_request_id'].count()) \n",
    "        data.append(df2[df2['booking_type']=='On Demand']['system_order_request_id'].count())\n",
    "    \n",
    "    return data "
   ]
  },
  {
   "cell_type": "code",
   "execution_count": null,
   "id": "5722af26-0ee4-4862-ad54-570e2969c3b4",
   "metadata": {
    "tags": []
   },
   "outputs": [],
   "source": [
    "def get_axis_hour(df): \n",
    "    x_axis= ['<0.5','0.5-0.99','1','2','3','4','5','6','7','8','9','10','11','12','13','14','15','16','17','18','19','20-29.99','30-39.99','40-48']\n",
    "    y_axis= [\n",
    "         cancel_hour_count(df,0.5), \n",
    "         cancel_hour_count(df,0.99),\n",
    "         cancel_hour_count(df,1,2),\n",
    "         cancel_hour_count(df,2,3),\n",
    "         cancel_hour_count(df,3,4),\n",
    "         cancel_hour_count(df,4,5),\n",
    "         cancel_hour_count(df,5,6),\n",
    "         cancel_hour_count(df,6,7),\n",
    "         cancel_hour_count(df,7,8),\n",
    "         cancel_hour_count(df,8,9),\n",
    "         cancel_hour_count(df,9,10),\n",
    "         cancel_hour_count(df,10,11),\n",
    "         cancel_hour_count(df,11,12),\n",
    "         cancel_hour_count(df,12,13),\n",
    "         cancel_hour_count(df,13,14),\n",
    "         cancel_hour_count(df,14,15),\n",
    "         cancel_hour_count(df,15,16),\n",
    "         cancel_hour_count(df,16,17),\n",
    "         cancel_hour_count(df,17,18),\n",
    "         cancel_hour_count(df,18,19),\n",
    "         cancel_hour_count(df,19,20),\n",
    "         cancel_hour_count(df,20,30),\n",
    "         cancel_hour_count(df,30,40),\n",
    "         cancel_hour_count(df,40,49)\n",
    "         ]\n",
    "    return x_axis, y_axis "
   ]
  },
  {
   "cell_type": "code",
   "execution_count": null,
   "id": "b2ff6f3a-e77f-4f04-bfae-39009138e862",
   "metadata": {
    "tags": []
   },
   "outputs": [],
   "source": [
    "def vehicle_pickup_list(df):\n",
    "#specify v_vehicle, y_vehicle=vehicle_cancel_list(df) to get 2 separate lists \n",
    "    x_vehicle_pickup= ['<0.5','0.5-0.99','1','2','3','4','5','6','7','8','9','10','11','12','13','14','15','16','17','18','19','20-29.99','30-39.99','40-48']\n",
    "    y_vehicle_pickup=[ \n",
    "                      df[df['cancel_hour']<=0.5]['cum_perc'].max(),\n",
    "                      df[(df['cancel_hour']>0.5)& (df['cancel_hour']<1)]['cum_perc'].max(),\n",
    "                      df[(df['cancel_hour']>=1)& (df['cancel_hour']<2)]['cum_perc'].max(),\n",
    "                      df[(df['cancel_hour']>=2)& (df['cancel_hour']<3)]['cum_perc'].max(),\n",
    "                      df[(df['cancel_hour']>=3)& (df['cancel_hour']<4)]['cum_perc'].max(),\n",
    "                      df[(df['cancel_hour']>=4)& (df['cancel_hour']<5)]['cum_perc'].max(),\n",
    "                      df[(df['cancel_hour']>=5)& (df['cancel_hour']<6)]['cum_perc'].max(),\n",
    "                      df[(df['cancel_hour']>=6)& (df['cancel_hour']<7)]['cum_perc'].max(),\n",
    "                      df[(df['cancel_hour']>=7)& (df['cancel_hour']<8)]['cum_perc'].max(),\n",
    "                      df[(df['cancel_hour']>=8)& (df['cancel_hour']<9)]['cum_perc'].max(),\n",
    "                      df[(df['cancel_hour']>=9)& (df['cancel_hour']<10)]['cum_perc'].max(),\n",
    "                      df[(df['cancel_hour']>=10)& (df['cancel_hour']<11)]['cum_perc'].max(),\n",
    "                      df[(df['cancel_hour']>=11)& (df['cancel_hour']<12)]['cum_perc'].max(),\n",
    "                      df[(df['cancel_hour']>=12)& (df['cancel_hour']<13)]['cum_perc'].max(),\n",
    "                      df[(df['cancel_hour']>=13)& (df['cancel_hour']<14)]['cum_perc'].max(),\n",
    "                      df[(df['cancel_hour']>=14)& (df['cancel_hour']<15)]['cum_perc'].max(),\n",
    "                      df[(df['cancel_hour']>=15)& (df['cancel_hour']<16)]['cum_perc'].max(),\n",
    "                      df[(df['cancel_hour']>=16)& (df['cancel_hour']<17)]['cum_perc'].max(),\n",
    "                      df[(df['cancel_hour']>=17)& (df['cancel_hour']<18)]['cum_perc'].max(),\n",
    "                      df[(df['cancel_hour']>=18)& (df['cancel_hour']<19)]['cum_perc'].max(),\n",
    "                      df[(df['cancel_hour']>=19)& (df['cancel_hour']<20)]['cum_perc'].max(),\n",
    "                      df[(df['cancel_hour']>=20)& (df['cancel_hour']<30)]['cum_perc'].max(),\n",
    "                      df[(df['cancel_hour']>=30)& (df['cancel_hour']<40)]['cum_perc'].max(),\n",
    "                      df[(df['cancel_hour']>=40)& (df['cancel_hour']<48)]['cum_perc'].max()\n",
    "    ]\n",
    "    return x_vehicle_pickup, y_vehicle_pickup"
   ]
  },
  {
   "cell_type": "code",
   "execution_count": null,
   "id": "a2468b39-50f2-4dab-b73a-30d4a342cb4e",
   "metadata": {
    "tags": []
   },
   "outputs": [],
   "source": [
    "def vehicle_order_pickup(df, order):\n",
    "    #specify v_vehicle, y_vehicle=vehicle_cancel_list(df) to get 2 separate lists \n",
    "    df2= df.loc[df['booking_type']==f'{order}']\n",
    "    df2= df2[['system_order_request_id','booking_type','cancel_time','cancel_hour']]\n",
    "    df2['count']= 1 \n",
    "    df2['cum_perc']= 100 * (df2['count'].cumsum() / df2['count'].sum()) \n",
    "    \n",
    "    x_vehicle_order_pickup= ['<0.5','0.5-0.99','1','2','3','4','5','6','7','8','9','10','11','12','13','14','15','16','17','18','19','20-29.99','30-39.99','40-48']\n",
    "    y_vehicle_order_pickup=[ \n",
    "                      df2[df2['cancel_hour']<=0.5]['cum_perc'].max(),\n",
    "                      df2[(df2['cancel_hour']>0.5)& (df2['cancel_hour']<1)]['cum_perc'].max(),\n",
    "                      df2[(df2['cancel_hour']>=1)& (df2['cancel_hour']<2)]['cum_perc'].max(),\n",
    "                      df2[(df2['cancel_hour']>=2)& (df2['cancel_hour']<3)]['cum_perc'].max(),\n",
    "                      df2[(df2['cancel_hour']>=3)& (df2['cancel_hour']<4)]['cum_perc'].max(),\n",
    "                      df2[(df2['cancel_hour']>=4)& (df2['cancel_hour']<5)]['cum_perc'].max(),\n",
    "                      df2[(df2['cancel_hour']>=5)& (df2['cancel_hour']<6)]['cum_perc'].max(),\n",
    "                      df2[(df2['cancel_hour']>=6)& (df2['cancel_hour']<7)]['cum_perc'].max(),\n",
    "                      df2[(df2['cancel_hour']>=7)& (df2['cancel_hour']<8)]['cum_perc'].max(),\n",
    "                      df2[(df2['cancel_hour']>=8)& (df2['cancel_hour']<9)]['cum_perc'].max(),\n",
    "                      df2[(df2['cancel_hour']>=9)& (df2['cancel_hour']<10)]['cum_perc'].max(),\n",
    "                      df2[(df2['cancel_hour']>=10)& (df2['cancel_hour']<11)]['cum_perc'].max(),\n",
    "                      df2[(df2['cancel_hour']>=11)& (df2['cancel_hour']<12)]['cum_perc'].max(),\n",
    "                      df2[(df2['cancel_hour']>=12)& (df2['cancel_hour']<13)]['cum_perc'].max(),\n",
    "                      df2[(df2['cancel_hour']>=13)& (df2['cancel_hour']<14)]['cum_perc'].max(),\n",
    "                      df2[(df2['cancel_hour']>=14)& (df2['cancel_hour']<15)]['cum_perc'].max(),\n",
    "                      df2[(df2['cancel_hour']>=15)& (df2['cancel_hour']<16)]['cum_perc'].max(),\n",
    "                      df2[(df2['cancel_hour']>=16)& (df2['cancel_hour']<17)]['cum_perc'].max(),\n",
    "                      df2[(df2['cancel_hour']>=17)& (df2['cancel_hour']<18)]['cum_perc'].max(),\n",
    "                      df2[(df2['cancel_hour']>=18)& (df2['cancel_hour']<19)]['cum_perc'].max(),\n",
    "                      df2[(df2['cancel_hour']>=19)& (df2['cancel_hour']<20)]['cum_perc'].max(),\n",
    "                      df2[(df2['cancel_hour']>=20)& (df2['cancel_hour']<30)]['cum_perc'].max(),\n",
    "                      df2[(df2['cancel_hour']>=30)& (df2['cancel_hour']<40)]['cum_perc'].max(),\n",
    "                      df2[(df2['cancel_hour']>=40)& (df2['cancel_hour']<48)]['cum_perc'].max()\n",
    "    ]\n",
    "    return x_vehicle_order_pickup, y_vehicle_order_pickup"
   ]
  },
  {
   "cell_type": "code",
   "execution_count": null,
   "id": "5d522e13-2f42-4dc3-8a4f-9d3ba123c11b",
   "metadata": {
    "tags": []
   },
   "outputs": [],
   "source": [
    "cancel_pickup= get_pickup_cancel('vn','2021-10-11','2022-10-10','TRANSPORT')"
   ]
  },
  {
   "cell_type": "code",
   "execution_count": null,
   "id": "8efd9978-8510-4af5-b32b-ac474f04cdfb",
   "metadata": {
    "tags": []
   },
   "outputs": [],
   "source": [
    "cancel_pickup= cancel_pickup[cancel_pickup['cancel_time']>0]"
   ]
  },
  {
   "cell_type": "code",
   "execution_count": null,
   "id": "e2990b9b-258e-4f8e-a920-39788e6a9a0d",
   "metadata": {},
   "outputs": [],
   "source": [
    "van_pickup_cancel= vehicle_pickup_cancel(cancel_pickup)"
   ]
  },
  {
   "cell_type": "code",
   "execution_count": null,
   "id": "0e18a5dc-940a-4d8d-a3dd-9f2513a132a0",
   "metadata": {
    "tags": []
   },
   "outputs": [],
   "source": [
    "x_axis_van_pickup, y_axis_van_pickup= get_axis_hour(van_pickup_cancel)"
   ]
  },
  {
   "cell_type": "code",
   "execution_count": null,
   "id": "462a5180-9ca7-473f-af34-acf4bdb785ac",
   "metadata": {
    "tags": []
   },
   "outputs": [],
   "source": [
    "y1_van_pickup, y2_van_pickup, y3_van_pickup= y_axis_split(y_axis_van_pickup)"
   ]
  },
  {
   "cell_type": "code",
   "execution_count": null,
   "id": "3dee33aa-8f0a-4794-9dd7-954029fe1bbf",
   "metadata": {
    "tags": []
   },
   "outputs": [],
   "source": [
    "x_van_pickup, y_van_pickup= vehicle_pickup_list(van_pickup_cancel)"
   ]
  },
  {
   "cell_type": "code",
   "execution_count": null,
   "id": "6ddc6f2b-05a9-4f01-aa0d-9a84335997e2",
   "metadata": {
    "tags": []
   },
   "outputs": [],
   "source": [
    "x_van_sameday_pickup, y_van_sameday_pickup= vehicle_order_pickup(van_pickup_cancel, 'Same Day')"
   ]
  },
  {
   "cell_type": "code",
   "execution_count": null,
   "id": "ed668814-f265-442c-94b2-6421d9f4d871",
   "metadata": {
    "tags": []
   },
   "outputs": [],
   "source": [
    "x_van_nextday_pickup, y_van_nextday_pickup= vehicle_order_pickup(van_pickup_cancel, 'Next Day')"
   ]
  },
  {
   "cell_type": "code",
   "execution_count": null,
   "id": "efdb8420-a414-4173-aed0-84e19b47f137",
   "metadata": {
    "tags": []
   },
   "outputs": [],
   "source": [
    "x_van_ondemand_pickup, y_van_ondemand_pickup = vehicle_order_pickup(van_pickup_cancel, 'On Demand')"
   ]
  },
  {
   "cell_type": "code",
   "execution_count": null,
   "id": "2ff99161-a1b9-4705-896c-153ae9c47a53",
   "metadata": {
    "tags": []
   },
   "outputs": [],
   "source": [
    "#Cancel time distribution of Van orders （with dropdown list) \n",
    "fig= make_subplots(specs=[[{'secondary_y':True}]])\n",
    "fig.add_trace(go.Bar(name='Next Day',x=x_axis_van_pickup, y=y1_van_pickup, marker_color='#1664B7'))\n",
    "fig.add_trace(go.Bar(name='Same Day',x=x_axis_van_pickup, y=y2_van_pickup, marker_color='#F8E015')) \n",
    "\n",
    "#Line charts for cumulative & (overall & different order_types)\n",
    "fig.add_trace(go.Scatter(x=x_van_pickup, y=y_van_pickup, mode= 'lines', name='Cumulative %', \n",
    "                         line_color='#00CC96'), secondary_y=True)\n",
    "fig.add_trace(go.Scatter(x=x_van_sameday_pickup, y=y_van_sameday_pickup, mode= 'lines', \n",
    "                         name='Cumulative % (booking same day)', \n",
    "                         visible= 'legendonly', line_color='#00CC96'), secondary_y=True)\n",
    "fig.add_trace(go.Scatter(x=x_van_nextday_pickup, y=y_van_nextday_pickup, mode= 'lines', \n",
    "                         name='Cumulative % (booking next day)', \n",
    "                         visible= 'legendonly', line_color='#00CC96'), secondary_y=True)\n",
    "\n",
    "\n",
    "fig.update_layout(title='Distribution of cancel time before pickup time', \n",
    "                  xaxis_title='cancel time before pickup time(minute)',\n",
    "                 yaxis_title='Number of Orders', barmode='stack') \n",
    "\n",
    "fig.update_layout(updatemenus=[go.layout.Updatemenu(active=0,\n",
    "                      buttons=list(\n",
    "                      [dict(label= 'All',\n",
    "                           method= 'update',\n",
    "                           args= [{'visible': [True,True,True,False,False]},\n",
    "                                  {'title': 'Distribution of cancel time before pickup time', \n",
    "                                  'showlegend':True}]),\n",
    "                       dict(label= 'booking same day',\n",
    "                           method= 'update',\n",
    "                           args= [{'visible': [False,True,False,True,False]},\n",
    "                                  {'title': 'Distribution of booking same day order cancel time before pickup time', \n",
    "                                  'showlegend':True}]),\n",
    "                       dict(label= 'booking next day',\n",
    "                           method= 'update',\n",
    "                           args= [{'visible': [True,False,False,False,True]},\n",
    "                                  {'title': 'Distribution of booking next day order cancel time before pickup time', \n",
    "                                  'showlegend':True}]),\n",
    "                      ])\n",
    "                    )\n",
    "                  ]) \n",
    "\n",
    "fig.update_xaxes(tickangle=50) \n",
    "fig.update_yaxes(rangemode='tozero')\n",
    "fig.show()"
   ]
  },
  {
   "cell_type": "code",
   "execution_count": null,
   "id": "bdc595b2-f8c1-44b1-916b-b97a1258598a",
   "metadata": {
    "tags": []
   },
   "outputs": [],
   "source": [
    "def group_cancel_hours(hours):\n",
    "    if hours <= 5:\n",
    "        return \"0-5\"\n",
    "    elif hours <= 15:\n",
    "        return \"6-15\"\n",
    "    elif hours <= 30:\n",
    "        return \"16-30\"\n",
    "    elif hours <= 40:\n",
    "        return \"31-40\"\n",
    "    else:\n",
    "        return \"40+\""
   ]
  },
  {
   "cell_type": "code",
   "execution_count": null,
   "id": "5bc05114-7115-475e-9cbd-a4fa263b0177",
   "metadata": {
    "tags": []
   },
   "outputs": [],
   "source": [
    "van_pickup_cancel['date_hour'] = van_pickup_cancel['created_at'].dt.strftime('%H:%M:%S').str.slice(stop=13)\n",
    "van_pickup_cancel['hour'] = van_pickup_cancel['created_at'].dt.hour\n",
    "van_pickup_cancel['cancel_group'] = van_pickup_cancel['cancel_hour'].apply(group_cancel_hours)"
   ]
  },
  {
   "cell_type": "code",
   "execution_count": null,
   "id": "4b27309f-824d-4900-9bac-9e6e22e34863",
   "metadata": {
    "tags": []
   },
   "outputs": [],
   "source": [
    "grouped_data = van_pickup_cancel.groupby(['hour','cancel_group', 'booking_type']).size().reset_index(name='count')"
   ]
  },
  {
   "cell_type": "code",
   "execution_count": null,
   "id": "72eba505-03f4-4ee2-a240-05923141aa97",
   "metadata": {
    "tags": []
   },
   "outputs": [],
   "source": [
    "fig = px.bar(grouped_data, \n",
    "             x='hour', \n",
    "             y='count', \n",
    "             color='cancel_group',    # Color based on 'cancel_group'\n",
    "             barmode='stack',\n",
    "             labels={\n",
    "            \"cancel_group\": \"cancel_group_hours\",\n",
    "            },\n",
    "             title='Van All Booking Types (Cancel time before pickup time)'   \n",
    ")\n",
    "\n",
    "fig_next_day = px.bar(\n",
    "    grouped_data[grouped_data['booking_type'] == 'Next Day'],\n",
    "    x='hour',\n",
    "    y='count',\n",
    "    color='cancel_group',\n",
    "    barmode='stack',\n",
    "    labels={\n",
    "            \"cancel_group\": \"cancel_group_hours\",\n",
    "            },\n",
    "    title='Van Next Day Booking Type (Cancel time before pickup time)'\n",
    ")\n",
    "\n",
    "# Chart for 'Same Day'\n",
    "fig_same_day = px.bar(\n",
    "    grouped_data[grouped_data['booking_type'] == 'Same Day'],\n",
    "    x='hour',\n",
    "    y='count',\n",
    "    color='cancel_group',\n",
    "    barmode='stack',\n",
    "    labels={\n",
    "            \"cancel_group\": \"cancel_group_hours\",\n",
    "            },\n",
    "    title='Van Same Day Booking Type (Cancel time before pickup time)'\n",
    ")\n",
    "\n",
    "# Show the charts\n",
    "fig.show()\n",
    "fig_next_day.show()\n",
    "fig_same_day.show()"
   ]
  },
  {
   "cell_type": "code",
   "execution_count": null,
   "id": "56782c27-3488-469f-bdbf-b9b4c177c19d",
   "metadata": {
    "tags": []
   },
   "outputs": [],
   "source": [
    "van_pickup_cancel['cancel_minute']= round((van_pickup_cancel['cancel_hour'] * 60),4) \n",
    "van_pickup_cancel['cancel_group'] = van_pickup_cancel['cancel_minute'].apply(group_cancel_minutes)\n",
    "grouped_data = van_pickup_cancel.groupby(['hour','cancel_group', 'booking_type']).size().reset_index(name='count')"
   ]
  },
  {
   "cell_type": "code",
   "execution_count": null,
   "id": "4f8f4af8-e371-4cda-a230-b9f010779ad6",
   "metadata": {
    "tags": []
   },
   "outputs": [],
   "source": [
    "fig_on_demand = px.bar(\n",
    "    grouped_data[grouped_data['booking_type'] == 'On Demand'],\n",
    "    x='hour',\n",
    "    y='count',\n",
    "    color='cancel_group',\n",
    "    barmode='stack',\n",
    "    labels={\n",
    "            \"cancel_group\": \"cancel_group_minutes\",\n",
    "            },\n",
    "    title='On Demand Booking Type (Cancel time before pickup time)'\n",
    ")\n",
    "\n",
    "\n",
    "\n",
    "fig_on_demand.show()"
   ]
  }
 ],
 "metadata": {
  "kernelspec": {
   "display_name": "Python 3 (ipykernel)",
   "language": "python",
   "name": "python3"
  },
  "language_info": {
   "codemirror_mode": {
    "name": "ipython",
    "version": 3
   },
   "file_extension": ".py",
   "mimetype": "text/x-python",
   "name": "python",
   "nbconvert_exporter": "python",
   "pygments_lexer": "ipython3",
   "version": "3.9.12"
  }
 },
 "nbformat": 4,
 "nbformat_minor": 5
}
